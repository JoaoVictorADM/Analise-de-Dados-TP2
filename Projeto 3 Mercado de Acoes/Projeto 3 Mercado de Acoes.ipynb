{
  "cells": [
    {
      "cell_type": "markdown",
      "id": "e4b89b9d",
      "metadata": {
        "id": "e4b89b9d"
      },
      "source": [
        "# ALUNOS:  João Victor Alves e Thomas Yoshihiro Kofuji\n",
        "\n"
      ]
    },
    {
      "cell_type": "markdown",
      "id": "5afa8893",
      "metadata": {
        "id": "5afa8893"
      },
      "source": [
        "\n",
        "# ANÁLISE EXPLORATÓRIA DE DADOS\n",
        "\n",
        "## Etapas: Entendimento do problema, Tratamento dos Dados, Visualização dos dados e Análise Exploratória dos Dados\n",
        "\n",
        "\n",
        "## Características principais:\n",
        "- Date: A data dos dados de preço das ações.\n",
        "- Open: O preço de abertura da ação nessa data.\n",
        "- High: O maior preço que a ação atingiu durante o pregão.\n",
        "- Low: O menor preço que a ação atingiu durante o pregão.\n",
        "- Close: O preço de fechamento da ação nessa data.\n",
        "- Volume: O volume de negociação, ou seja, o número de ações negociadas naquela data.\n",
        "- Dividends: Dividendos pagos nessa data (se houver).\n",
        "- Stock Splits: Informações sobre desdobramentos de ações (se houver).\n",
        "- Brand_Name: O nome da marca ou empresa.\n",
        "- Ticker: Símbolo de ticker para a ação.\n",
        "- Industry_Tag: A categoria de indústria ou setor ao qual a marca pertence.\n",
        "- Country: O país onde a marca está sediada ou opera principalmente.\n",
        "\n",
        "## Análises potenciais da base\n",
        "\n",
        "- Análise do Mercado de Ações: Analisar os preços históricos das ações para identificar tendências e padrões no mercado de ações.\n",
        "- Brand Performance: Avalie o desempenho de várias marcas no mercado de ações ao longo do tempo.\n",
        "- Estratégias de Investimento: Desenvolver estratégias de investimento com base em dados históricos de ações de marcas específicas.\n",
        "- Análise Setorial: Explore como diferentes indústrias ou setores estão se comportando no mercado de ações.\n",
        "- Comparação entre países: Compare o desempenho das ações das marcas em diferentes países.\n",
        "- Análise de Sentimento de Mercado: Analise os movimentos dos preços das ações em relação a notícias ou eventos que afetam marcas ou setores específicos.\n",
        "\n",
        "## Escolha um tipo de Análise e realize a Análise Exploratória"
      ]
    },
    {
      "cell_type": "markdown",
      "id": "2af59512",
      "metadata": {
        "id": "2af59512"
      },
      "source": [
        "# Qual foi a Análise escolhida?\n",
        "Resposta: Comparação entre países"
      ]
    },
    {
      "cell_type": "markdown",
      "id": "3542c592",
      "metadata": {
        "id": "3542c592"
      },
      "source": [
        "# Importar e visualizar a base"
      ]
    },
    {
      "cell_type": "code",
      "execution_count": 61,
      "id": "07d87618",
      "metadata": {
        "id": "07d87618"
      },
      "outputs": [],
      "source": [
        "# Importar as bibliotecas necessárias para solucionar o problema\n",
        "import numpy as np\n",
        "import pandas as pd\n",
        "import matplotlib.pyplot as plt\n",
        "import matplotlib.ticker as ticker\n",
        "import seaborn as sns\n",
        "\n"
      ]
    },
    {
      "cell_type": "code",
      "execution_count": 62,
      "id": "baf8cb17",
      "metadata": {
        "id": "baf8cb17"
      },
      "outputs": [],
      "source": [
        "# Importar a base de dados\n",
        "df = pd.read_csv('/content/sample_data/World-Stock-Prices-Dataset.csv')"
      ]
    },
    {
      "cell_type": "code",
      "execution_count": null,
      "id": "82469925",
      "metadata": {
        "id": "82469925"
      },
      "outputs": [],
      "source": [
        "# Visualizar os 4 primeiras linhas da base\n",
        "df.head(4)"
      ]
    },
    {
      "cell_type": "code",
      "execution_count": null,
      "id": "68d86c7a",
      "metadata": {
        "id": "68d86c7a"
      },
      "outputs": [],
      "source": [
        "# Visualizar os 4 últimas linhas da base\n",
        "df.tail(4)"
      ]
    },
    {
      "cell_type": "code",
      "execution_count": null,
      "id": "b2058c43",
      "metadata": {
        "id": "b2058c43"
      },
      "outputs": [],
      "source": [
        "# Visualizar a quantidade de linhas e colunas da base\n",
        "df.shape"
      ]
    },
    {
      "cell_type": "markdown",
      "id": "2efc3b52",
      "metadata": {
        "id": "2efc3b52"
      },
      "source": [
        "## Visualizando um resumo das informações"
      ]
    },
    {
      "cell_type": "code",
      "execution_count": null,
      "id": "47d89796",
      "metadata": {
        "id": "47d89796"
      },
      "outputs": [],
      "source": [
        "# Verificando o domínio dos dados\n",
        "df.info()"
      ]
    },
    {
      "cell_type": "code",
      "execution_count": null,
      "id": "76c7ea05",
      "metadata": {
        "id": "76c7ea05"
      },
      "outputs": [],
      "source": [
        "# Corrigir o domínio do campo Date\n",
        "df['Date'] = pd.to_datetime(df['Date'])"
      ]
    },
    {
      "cell_type": "code",
      "execution_count": null,
      "id": "c4f14ece",
      "metadata": {
        "id": "c4f14ece"
      },
      "outputs": [],
      "source": [
        "# Contando a quantidade de valores nulos\n",
        "df.isnull().sum()"
      ]
    },
    {
      "cell_type": "code",
      "execution_count": null,
      "id": "a3e1f663",
      "metadata": {
        "id": "a3e1f663"
      },
      "outputs": [],
      "source": [
        "# Verificando as informações estatísticas da base\n",
        "df.describe()"
      ]
    },
    {
      "cell_type": "code",
      "source": [
        "df.describe(exclude = 'number')"
      ],
      "metadata": {
        "id": "jHcNJRkTaHKF"
      },
      "id": "jHcNJRkTaHKF",
      "execution_count": null,
      "outputs": []
    },
    {
      "cell_type": "markdown",
      "id": "049e0f7e",
      "metadata": {
        "id": "049e0f7e"
      },
      "source": [
        "A cardinalidade nos ajuda a saber a quantidade de dados distintos em uma coluna\n",
        "\n",
        "Se tivermos muitos valores distintos, provavelmente aquela coluna não será uma boa opção para usarmos no modelo\n",
        "Matematicamente, cardinalidade é o número de elementos de um conjunto\n",
        "Podemos verificar a cardinalidade usando o .nunique()"
      ]
    },
    {
      "cell_type": "code",
      "execution_count": null,
      "id": "de8ac456",
      "metadata": {
        "id": "de8ac456"
      },
      "outputs": [],
      "source": [
        "# Verificando a cardinalidade da base\n",
        "df.nunique()"
      ]
    },
    {
      "cell_type": "markdown",
      "id": "87450976",
      "metadata": {
        "id": "87450976"
      },
      "source": [
        "## Visualizando de forma gráfica"
      ]
    },
    {
      "cell_type": "code",
      "execution_count": null,
      "id": "3b89bbc1",
      "metadata": {
        "id": "3b89bbc1"
      },
      "outputs": [],
      "source": [
        "# Visualizando a informação da cardinalidade de forma gráfica (eixo X = índice e eixo Y = cardinalidade ). Aplique as boas práticas de visualização de dados\n",
        "\n",
        "cardinalidade = df.nunique()\n",
        "\n",
        "# Criando o gráfico\n",
        "fig, ax = plt.subplots(figsize=(12, 6))\n",
        "bars = ax.bar(cardinalidade.index, cardinalidade.values)\n",
        "\n",
        "ax.spines['top'].set_visible(False)\n",
        "ax.spines['right'].set_visible(False)\n",
        "ax.spines['left'].set_visible(False)\n",
        "ax.spines['bottom'].set_visible(False)\n",
        "\n",
        "ax.set_title(\"Cardinalidade das colunas do DataFrame\", fontsize=14, pad=40)\n",
        "ax.set_yticks([])\n",
        "ax.set_xticklabels(cardinalidade.index, rotation=75, ha=\"right\", fontsize=10)\n",
        "ax.set_ylabel('Número de valores diferentes')\n",
        "\n",
        "for bar in bars:\n",
        "    ax.annotate(\n",
        "        text=str(bar.get_height()),\n",
        "        xy=(bar.get_x() + bar.get_width() / 2, bar.get_height()),\n",
        "        xytext=(0, 10),\n",
        "        textcoords=\"offset points\",\n",
        "        ha=\"center\", fontsize=10, fontweight=\"bold\"\n",
        "    )\n",
        "\n",
        "fig.tight_layout()\n",
        "\n",
        "plt.show()\n"
      ]
    },
    {
      "cell_type": "code",
      "execution_count": null,
      "id": "7adb8e28",
      "metadata": {
        "id": "7adb8e28"
      },
      "outputs": [],
      "source": [
        "# Visualizando a informação anterior de forma gráfica em ordem decrescente.Aplique as boas práticas de visualização de dados\n",
        "\n",
        "df['Brand_Name'] = df['Brand_Name'].astype('category')\n",
        "df['Ticker'] = df['Ticker'].astype('category')\n",
        "df['Industry_Tag'] = df['Industry_Tag'].astype('category')\n",
        "df['Country'] = df['Country'].astype('category')\n",
        "\n",
        "cardinalidade = df.nunique().sort_values(ascending=False)\n",
        "\n",
        "fig, ax = plt.subplots(figsize=(12, 6))\n",
        "bars = ax.bar(cardinalidade.index, cardinalidade.values)\n",
        "\n",
        "ax.spines['top'].set_visible(False)\n",
        "ax.spines['right'].set_visible(False)\n",
        "ax.spines['left'].set_visible(False)\n",
        "ax.spines['bottom'].set_visible(False)\n",
        "\n",
        "ax.set_title('Cardinalidade das colunas do DataFrame', fontsize = 14, pad = 40)\n",
        "ax.set_yticks([])\n",
        "ax.set_xticklabels(cardinalidade.index, rotation = 75, ha = 'right', fontsize = 10)\n",
        "ax.set_ylabel('Número de valores diferentes')\n",
        "\n",
        "# Adicionando os valores no topo das barras com annotate\n",
        "for bar in bars:\n",
        "    ax.annotate(\n",
        "        text=str(bar.get_height()),\n",
        "        xy=(bar.get_x() + bar.get_width() / 2, bar.get_height()),\n",
        "        xytext=(0, 10),\n",
        "        textcoords = 'offset points',\n",
        "        ha = 'center', fontsize = 10, fontweight = 'bold'\n",
        "    )\n",
        "\n",
        "# Ajustando layout e exibindo o gráfico\n",
        "fig.tight_layout()\n",
        "plt.show()"
      ]
    },
    {
      "cell_type": "code",
      "execution_count": null,
      "id": "81b5463a",
      "metadata": {
        "id": "81b5463a"
      },
      "outputs": [],
      "source": [
        "# Verificando o histograma do volume negociado por país. Aplique as boas práticas de visualização de dados\n",
        "\n",
        "ranges = [(0, 10000)] + [(10**i, 10**(i+1)) for i in range(4, 10)]\n",
        "\n",
        "for min_range, max_range in ranges:\n",
        "    plt.figure(figsize=(10, 6))  # Define o tamanho do gráfico\n",
        "\n",
        "    sns.histplot(x = 'Volume', hue = 'Country', data = df, bins = 20, binrange = (min_range, max_range))\n",
        "\n",
        "    plt.title(f'Histograma do Volume ({min_range} a {max_range})')\n",
        "    plt.xlabel('Volume')\n",
        "    plt.ylabel('Frequência')\n",
        "\n",
        "    plt.show()\n",
        "\n"
      ]
    },
    {
      "cell_type": "code",
      "execution_count": null,
      "id": "d6b23a54",
      "metadata": {
        "id": "d6b23a54"
      },
      "outputs": [],
      "source": [
        "# Verificando o histograma do volume negociado por país apenas para os 8 maiores volumes de negociação por país. Aplique as boas práticas de visualização de dados\n",
        "\n",
        "top_8_volumes_per_country = df.groupby('Country', group_keys=False).apply(lambda x: x.nlargest(8, 'Volume'))\n",
        "\n",
        "plt.figure(figsize=(12, 8))\n",
        "sns.histplot(x = 'Volume', hue = 'Country', data = top_8_volumes_per_country, bins = 20, multiple = 'stack')\n",
        "\n",
        "# Personalizar o gráfico\n",
        "plt.title('Histograma dos 8 Maiores Volumes de Cada País', fontsize = 16)\n",
        "plt.grid(False)\n",
        "plt.xlabel('Volume', fontsize=14)\n",
        "plt.ylabel('Frequência', fontsize=14)\n",
        "\n",
        "plt.show()\n"
      ]
    },
    {
      "cell_type": "markdown",
      "id": "5a4b7186",
      "metadata": {
        "id": "5a4b7186"
      },
      "source": [
        "## O boxplot\n",
        "- Permite visualizar os percentis e valores máximo e mínimo dos dados\n",
        "- Permite visualizar, além de simetria e dispersão dos dados, valores extremos (outliers)\n",
        "- O valor máximo e mínimo são calculados baseado no interquartil"
      ]
    },
    {
      "cell_type": "code",
      "execution_count": null,
      "id": "63106ad7",
      "metadata": {
        "id": "63106ad7"
      },
      "outputs": [],
      "source": [
        "# Verificando para a coluna Volume\n",
        "\n",
        "sns.boxplot(x=df['Volume'])\n",
        "plt.title('Boxplot das coluna Volume')\n",
        "plt.grid(False)\n",
        "plt.xscale('log')\n",
        "plt.show()"
      ]
    },
    {
      "cell_type": "code",
      "execution_count": null,
      "id": "bc614376",
      "metadata": {
        "id": "bc614376"
      },
      "outputs": [],
      "source": [
        "# Criando o boxplot para as colunas Open e Close\n",
        "sns.boxplot(data=df[['Open', 'Close']], orient = 'h')\n",
        "plt.xscale('log')\n",
        "plt.title('Boxplot das colunas Open e Close')\n",
        "plt.show()"
      ]
    },
    {
      "cell_type": "code",
      "execution_count": null,
      "id": "6f2c75b4",
      "metadata": {
        "id": "6f2c75b4"
      },
      "outputs": [],
      "source": [
        "# Criando o boxplot para as colunas Low e High\n",
        "sns.boxplot(data=df[['Low', 'High']], orient = 'h')\n",
        "plt.xscale('log')\n",
        "plt.title('Boxplot das colunas Low e High')\n",
        "plt.show()"
      ]
    },
    {
      "cell_type": "code",
      "execution_count": 79,
      "id": "8d242d24",
      "metadata": {
        "id": "8d242d24",
        "colab": {
          "base_uri": "https://localhost:8080/"
        },
        "outputId": "e3b1b5de-a299-4349-c871-50040f2dfbf3"
      },
      "outputs": [
        {
          "output_type": "stream",
          "name": "stdout",
          "text": [
            "Interquartil(IQR) para a coluna Low: 56.79793854749853\n",
            "Interquartil para(IQR) a coluna High: 57.72670220481982\n"
          ]
        }
      ],
      "source": [
        "# Determinando o interquartil\n",
        "\n",
        "Q1_Low = df['Low'].quantile(0.25)\n",
        "Q3_Low = df['Low'].quantile(0.75)\n",
        "\n",
        "Q1_High = df['High'].quantile(0.25)\n",
        "Q3_High = df['High'].quantile(0.75)\n",
        "\n",
        "print(f'Interquartil(IQR) para a coluna Low: {Q3_Low - Q1_Low}')\n",
        "print(f'Interquartil para(IQR) a coluna High: {Q3_High - Q1_High}')"
      ]
    },
    {
      "cell_type": "code",
      "execution_count": null,
      "id": "d1faa307",
      "metadata": {
        "id": "d1faa307"
      },
      "outputs": [],
      "source": [
        "# Calculando o valor máximo e mínimo\n",
        "\n",
        "print(f\"Valor mínimo para a coluna Low: {df['Low'].min()}\")\n",
        "print(f\"Valor mínimo para a coluna High: {df['High'].min()}\\n\")\n",
        "\n",
        "print(f\"Valor máximo para a coluna Low: {df['Low'].max()}\")\n",
        "print(f\"Valor máximo para a coluna High: {df['High'].max()}\\n\")\n",
        "\n",
        "print(f\"Coluna Low - Valor mínimo range interquartil([{Q1_Low}, {Q3_Low}]): {df['Low'][(df['Low'] >= Q1_Low) & (df['Low'] <= Q3_Low)].min()}\")\n",
        "print(f\"Coluna Low - Valor máximo range interquartil([{Q1_Low}, {Q3_Low}]): {df['Low'][(df['Low'] >= Q1_Low) & (df['Low'] <= Q3_Low)].max()}\\n\")\n",
        "\n",
        "print(f\"Coluna High - Valor mínimo range interquartil([{Q1_High}, {Q3_High}]): {df['High'][(df['High'] >= Q1_High) & (df['High'] <= Q3_High)].min()}\")\n",
        "print(f\"Coluna High - Valor máximo range interquartil([{Q1_High}, {Q3_High}]): {df['High'][(df['High'] >= Q1_High) & (df['High'] <= Q3_High)].max()}\")\n"
      ]
    },
    {
      "cell_type": "code",
      "execution_count": null,
      "id": "96330eb5",
      "metadata": {
        "id": "96330eb5"
      },
      "outputs": [],
      "source": [
        "# Verificando a quantidade de registros em cada intervalo (<Q1, entre Q1 e Q2, entre Q2 e Q3,>Q3) para as colunas Open e Close\n",
        "\n",
        "Q1_Open = df['Open'].quantile(0.25)\n",
        "Q2_Open = df['Open'].quantile(0.50)\n",
        "Q3_Open = df['Open'].quantile(0.75)\n",
        "\n",
        "Q1_Close = df['Close'].quantile(0.25)\n",
        "Q2_Close = df['Close'].quantile(0.50)\n",
        "Q3_Close = df['Close'].quantile(0.75)\n",
        "\n",
        "# Verificando a quantidade de registros em cada intervalo para a coluna 'Open'\n",
        "open_min_Q1 = df[df['Open'] < Q1_Open].shape[0]\n",
        "open_Q1_Q2 = df[(df['Open'] >= Q1_Open) & (df['Open'] < Q2_Open)].shape[0]\n",
        "open_Q2_Q3 = df[(df['Open'] >= Q2_Open) & (df['Open'] < Q3_Open)].shape[0]\n",
        "open_Q3_max = df[df['Open'] > Q3_Open].shape[0]\n",
        "\n",
        "# Verificando a quantidade de registros em cada intervalo para a coluna 'Close'\n",
        "close_min_Q1 = df[df['Close'] < Q1_Close].shape[0]\n",
        "close_Q1_Q2 = df[(df['Close'] >= Q1_Close) & (df['Close'] < Q2_Close)].shape[0]\n",
        "close_Q2_Q3 = df[(df['Close'] >= Q2_Close) & (df['Close'] < Q3_Close)].shape[0]\n",
        "close_max_Q3 = df[df['Close'] > Q3_Close].shape[0]\n",
        "\n",
        "print(\"Distribuição de registros para a coluna 'Open':\")\n",
        "print(f'< Q1: {open_min_Q1}')\n",
        "print(f'Q1 <= Open < Q2: {open_Q1_Q2}')\n",
        "print(f'Q2 <= Open < Q3: {open_Q2_Q3}')\n",
        "print(f'>= Q3: {open_Q3_max}')\n",
        "\n",
        "print(\"\\nDistribuição de registros para a coluna 'Close':\")\n",
        "print(f'< Q1: {close_min_Q1}')\n",
        "print(f'Q1 <= Close < Q2: {close_Q1_Q2}')\n",
        "print(f'Q2 <= Close < Q3: {close_Q2_Q3}')\n",
        "print(f'>= Q3: {close_max_Q3}')"
      ]
    },
    {
      "cell_type": "markdown",
      "id": "b68525c0",
      "metadata": {
        "id": "b68525c0"
      },
      "source": [
        "## Criando uma matriz para mostrar a correlação de cada par de variáveis\n",
        "- Podemos usar do pandas o `.plotting.scatter_matrix()` ou do seaborn o `.pairplot()`"
      ]
    },
    {
      "cell_type": "code",
      "execution_count": null,
      "id": "bc5ab8ea",
      "metadata": {
        "id": "bc5ab8ea"
      },
      "outputs": [],
      "source": [
        "# Apresentar a matriz de correção da base\n",
        "\n",
        "df_correlacao = df[['Open', 'High', 'Low', 'Close', 'Volume', 'Dividends', 'Stock Splits']]\n",
        "matriz_correlacao = df_correlacao.corr()\n",
        "\n",
        "print(matriz_correlacao)"
      ]
    },
    {
      "cell_type": "code",
      "execution_count": null,
      "id": "a40b717a",
      "metadata": {
        "id": "a40b717a"
      },
      "outputs": [],
      "source": [
        "# Apresentar a matriz de correlação da base plotando no pairplot\n",
        "\n",
        "sns.pairplot(df_correlacao, diag_kind = 'kde')\n",
        "plt.show()\n",
        "\n",
        "\n",
        "# Colunas 'Open', 'High', 'Low', 'Close' aprensentam correlação entre si"
      ]
    },
    {
      "cell_type": "markdown",
      "id": "2561a4b3",
      "metadata": {
        "id": "2561a4b3"
      },
      "source": [
        "## Visualizando apenas o KDE**\n",
        "- KDE: Kernel Density Estimation\n",
        "    - Mede a chance de uma variável aleatória assumir determinado valor\n",
        "    - A probabilidade é dada pela integral abaixo da curva na faixa de valor selecionada\n",
        "- Parece uma \"versão de linha suavizada\" de um histograma"
      ]
    },
    {
      "cell_type": "code",
      "execution_count": null,
      "id": "81dca9bb",
      "metadata": {
        "id": "81dca9bb"
      },
      "outputs": [],
      "source": [
        "# Fazendo o kde do volume negociado por país\n",
        "fig, ax = plt.subplots(nrows = 1, ncols = 1, figsize = (12, 6), tight_layout=True)\n",
        "sns.kdeplot(x = 'Volume', hue = 'Country', data = df, fill = True, ax = ax)\n",
        "ax.set_title('Volume Negociado por País')\n",
        "plt.grid(False)\n",
        "ax.set_ylabel('Densidade')\n",
        "ax.set_xscale('log')\n",
        "plt.tight_layout()\n",
        "plt.show()"
      ]
    },
    {
      "cell_type": "markdown",
      "id": "768ec177",
      "metadata": {
        "id": "768ec177"
      },
      "source": [
        "## Heatmap de correlação"
      ]
    },
    {
      "cell_type": "code",
      "execution_count": null,
      "id": "d3b309ee",
      "metadata": {
        "id": "d3b309ee"
      },
      "outputs": [],
      "source": [
        "# Verificando a correlação entre os dados utilizando o heatmap\n",
        "plt.figure(figsize = (10, 8))\n",
        "sns.heatmap(matriz_correlacao, annot = True, cmap = 'coolwarm', fmt = '.6f', vmin = -1, vmax = 1)\n",
        "\n",
        "# Exibindo o gráfico\n",
        "plt.title('Heatmap da Matriz de Correlação')\n",
        "plt.show()"
      ]
    },
    {
      "cell_type": "code",
      "execution_count": null,
      "id": "d8bd77b5",
      "metadata": {
        "id": "d8bd77b5"
      },
      "outputs": [],
      "source": [
        "# Excluir colunas desnecessárias\n",
        "df.drop(columns = ['Dividends', 'Stock Splits', 'Ticker'], inplace = True)\n",
        "\n",
        "df.info()"
      ]
    },
    {
      "cell_type": "code",
      "execution_count": 87,
      "id": "33861027",
      "metadata": {
        "tags": [],
        "id": "33861027"
      },
      "outputs": [],
      "source": [
        "# Conclusão: identifique quais colunas (variáveis) seriam utilizadas em um modelo de aprendizagem de máquina\n",
        "\n",
        "# Nós escolheriamos as colunas 'Open', 'Close, 'Low' e 'High' para a aprendizagem de máquina, pois essas colunas tem uma correlação entre si"
      ]
    },
    {
      "cell_type": "markdown",
      "id": "736e1864-6c20-444f-84c1-86876af808c6",
      "metadata": {
        "id": "736e1864-6c20-444f-84c1-86876af808c6"
      },
      "source": [
        "## Apresente uma conclusão de acordo com a Análise escolhida, demonstrando graficamente"
      ]
    },
    {
      "cell_type": "markdown",
      "source": [
        "O volume médio de negociações varia bastante entre os países. Alguns países têm marcas com volumes médios muito mais altos do que outros, o que pode refletir o tamanho e a atividade do mercado de ações local, bem como a importância econômica do país em questão.\n",
        "\n",
        "As marcas com maior volume médio de negociações tendem a ser empresas grandes e bem conhecidas em seus respectivos países. Essas empresas geralmente têm um histórico sólido de desempenho e são consideradas investimentos mais seguros pelos investidores, o que pode contribuir para um maior volume de negociações.\n",
        "\n",
        "Ao analisar os gráficos para cada país, é possível identificar as marcas mais importantes e influentes em cada mercado. Essas marcas podem ser consideradas líderes em seus setores e podem ter um impacto significativo na economia local.\n",
        "\n",
        "Nosso objetivo inicial era comparar o volume de negociação das marcas em cada país, porém, nessa base de dados cada marca só tem suas ações negociadas em um país individualmente, ou seja, não é possível fazer essa comparação entre países sob a mesma marca"
      ],
      "metadata": {
        "id": "iVD5EA2DyrUB"
      },
      "id": "iVD5EA2DyrUB"
    },
    {
      "cell_type": "code",
      "execution_count": null,
      "id": "2128e51c-e7bf-4069-845f-73b1be6c5feb",
      "metadata": {
        "id": "2128e51c-e7bf-4069-845f-73b1be6c5feb"
      },
      "outputs": [],
      "source": [
        "brand_volume = df.groupby(['Country', 'Brand_Name'])['Volume'].mean().reset_index()\n",
        "\n",
        "brand_volume = brand_volume.sort_values(by=['Country', 'Volume'], ascending=[True, False])\n",
        "\n",
        "brand_volume.dropna(inplace = True)\n",
        "\n",
        "for country in brand_volume['Country'].unique():\n",
        "\n",
        "    country_data = brand_volume[brand_volume['Country'] == country]\n",
        "\n",
        "\n",
        "    plt.figure(figsize = (12, 6))\n",
        "    plt.bar(country_data['Brand_Name'], country_data['Volume'])\n",
        "    plt.grid(False)\n",
        "    plt.ylabel('Volume Médio de Negociações')\n",
        "    plt.title(f'Comparação do Volume Médio de Negociações por Marca ({country})', pad = 30)\n",
        "    plt.xticks(rotation = 90)\n",
        "    plt.show()"
      ]
    },
    {
      "cell_type": "code",
      "source": [
        "for brand in df['Brand_Name'].unique():\n",
        "\n",
        "    brand_data = df[df['Brand_Name'] == brand]\n",
        "\n",
        "    unique_countries = brand_data['Country'].unique()\n",
        "\n",
        "\n",
        "    print(f\"Marca: {brand}\")\n",
        "    print(f\"Países: {unique_countries}\")\n",
        "    print(f\"Número de países: {len(unique_countries)}\")\n",
        "    print(\"-\" * 100)\n",
        "\n",
        "\n",
        "    '''\n",
        "\n",
        "    Cada marca está em somente 1 país.\n",
        "\n",
        "    '''\n"
      ],
      "metadata": {
        "id": "16upEiINuIv-"
      },
      "id": "16upEiINuIv-",
      "execution_count": null,
      "outputs": []
    }
  ],
  "metadata": {
    "kernelspec": {
      "display_name": "Python 3 (ipykernel)",
      "language": "python",
      "name": "python3"
    },
    "language_info": {
      "codemirror_mode": {
        "name": "ipython",
        "version": 3
      },
      "file_extension": ".py",
      "mimetype": "text/x-python",
      "name": "python",
      "nbconvert_exporter": "python",
      "pygments_lexer": "ipython3",
      "version": "3.11.5"
    },
    "colab": {
      "provenance": []
    }
  },
  "nbformat": 4,
  "nbformat_minor": 5
}